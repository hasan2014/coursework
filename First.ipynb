{
 "metadata": {
  "name": "",
  "signature": "sha256:bfba11a81573d7063f364c9606cfc2b7ec5d1d7771d41701a9270107d72e5315"
 },
 "nbformat": 3,
 "nbformat_minor": 0,
 "worksheets": [
  {
   "cells": [
    {
     "cell_type": "code",
     "collapsed": false,
     "input": [
      "x=50\n",
      "y=5.0\n",
      "z=\"Hello\"\n",
      "\n",
      "print x,y\n",
      "\n",
      "print type(x)\n",
      "print type(y)\n",
      "print type(z)"
     ],
     "language": "python",
     "metadata": {},
     "outputs": [
      {
       "output_type": "stream",
       "stream": "stdout",
       "text": [
        "50 5.0\n",
        "<type 'int'>\n",
        "<type 'float'>\n",
        "<type 'str'>\n"
       ]
      }
     ],
     "prompt_number": 1
    },
    {
     "cell_type": "code",
     "collapsed": false,
     "input": [
      "#print \"Hello, world!\" as many times as you want\n",
      "for i in range(0,5,1):\n",
      " print \"Hi\""
     ],
     "language": "python",
     "metadata": {},
     "outputs": [
      {
       "output_type": "stream",
       "stream": "stdout",
       "text": [
        "Hi\n",
        "Hi\n",
        "Hi\n",
        "Hi\n",
        "Hi\n"
       ]
      }
     ],
     "prompt_number": 9
    },
    {
     "cell_type": "code",
     "collapsed": false,
     "input": [
      "print    \" First ===========\"\n",
      "for i in range(2):\n",
      " print i\n",
      "for j in range(1):\n",
      " print j\n",
      "    \n",
      "print    \" second ===========\"\n",
      "for i in range(3):\n",
      " for j in range(1):\n",
      "     print i\n",
      "     print j\n",
      "    \n",
      "  \n",
      " "
     ],
     "language": "python",
     "metadata": {},
     "outputs": [
      {
       "output_type": "stream",
       "stream": "stdout",
       "text": [
        " First ===========\n",
        "0\n",
        "1\n",
        "0\n",
        " second ===========\n",
        "0\n",
        "0\n",
        "1\n",
        "0\n",
        "2\n",
        "0\n"
       ]
      }
     ],
     "prompt_number": 64
    },
    {
     "cell_type": "code",
     "collapsed": false,
     "input": [
      "for i in range(1,11,1):\n",
      " for j in range(1,11,1):\n",
      "  print i*j\n",
      "        \n",
      "# How can we print out  in one line?\n",
      "# How many lines after for will be affected by the for command and how can we separate them?"
     ],
     "language": "python",
     "metadata": {},
     "outputs": [
      {
       "output_type": "stream",
       "stream": "stdout",
       "text": [
        "1\n",
        "2\n",
        "3\n",
        "4\n",
        "5\n",
        "6\n",
        "7\n",
        "8\n",
        "9\n",
        "10\n",
        "2\n",
        "4\n",
        "6\n",
        "8\n",
        "10\n",
        "12\n",
        "14\n",
        "16\n",
        "18\n",
        "20\n",
        "3\n",
        "6\n",
        "9\n",
        "12\n",
        "15\n",
        "18\n",
        "21\n",
        "24\n",
        "27\n",
        "30\n",
        "4\n",
        "8\n",
        "12\n",
        "16\n",
        "20\n",
        "24\n",
        "28\n",
        "32\n",
        "36\n",
        "40\n",
        "5\n",
        "10\n",
        "15\n",
        "20\n",
        "25\n",
        "30\n",
        "35\n",
        "40\n",
        "45\n",
        "50\n",
        "6\n",
        "12\n",
        "18\n",
        "24\n",
        "30\n",
        "36\n",
        "42\n",
        "48\n",
        "54\n",
        "60\n",
        "7\n",
        "14\n",
        "21\n",
        "28\n",
        "35\n",
        "42\n",
        "49\n",
        "56\n",
        "63\n",
        "70\n",
        "8\n",
        "16\n",
        "24\n",
        "32\n",
        "40\n",
        "48\n",
        "56\n",
        "64\n",
        "72\n",
        "80\n",
        "9\n",
        "18\n",
        "27\n",
        "36\n",
        "45\n",
        "54\n",
        "63\n",
        "72\n",
        "81\n",
        "90\n",
        "10\n",
        "20\n",
        "30\n",
        "40\n",
        "50\n",
        "60\n",
        "70\n",
        "80\n",
        "90\n",
        "100\n"
       ]
      }
     ],
     "prompt_number": 126
    },
    {
     "cell_type": "code",
     "collapsed": false,
     "input": [
      "x=5\n",
      "y=7\n",
      "if x>y :\n",
      "    print \"x is greater than y\"\n",
      "elif x<y:\n",
      "        print \"x is smaller than y\"\n",
      "else:\n",
      "            print \"x and y are equal\""
     ],
     "language": "python",
     "metadata": {},
     "outputs": [
      {
       "output_type": "stream",
       "stream": "stdout",
       "text": [
        "x is smaller than y\n"
       ]
      }
     ],
     "prompt_number": 125
    },
    {
     "cell_type": "code",
     "collapsed": false,
     "input": [
      "# How can we couple two loops? It starts with i=0 and then does not go to loop j  in the First case .\n",
      "# while for the case 2 it is true. So when you fill the gap between two loops you automacillay separete two loops and\n",
      "# they will work separeately. "
     ],
     "language": "python",
     "metadata": {},
     "outputs": [],
     "prompt_number": 55
    },
    {
     "cell_type": "code",
     "collapsed": false,
     "input": [
      "def sum(x,y):\n",
      "    sum=x+y\n",
      "    return sum\n",
      "Z=sum(5,7)\n",
      "print Z"
     ],
     "language": "python",
     "metadata": {},
     "outputs": [
      {
       "output_type": "stream",
       "stream": "stdout",
       "text": [
        "12\n"
       ]
      }
     ],
     "prompt_number": 74
    },
    {
     "cell_type": "code",
     "collapsed": false,
     "input": [
      "import numpy\n",
      "a=numpy.array([11,23,43,54])\n",
      "print a\n",
      "print a[0],a[3]\n",
      "print a[1:3]\n",
      "print a[2:]\n",
      "\n",
      "# the lower index in a slicing range is inclusive, while the upper index is exclusive"
     ],
     "language": "python",
     "metadata": {},
     "outputs": [
      {
       "output_type": "stream",
       "stream": "stdout",
       "text": [
        "[11 23 43 54]\n",
        "11 54\n",
        "[23 43]\n",
        "[43 54]\n"
       ]
      }
     ],
     "prompt_number": 84
    },
    {
     "cell_type": "code",
     "collapsed": false,
     "input": [
      "if x>=7 and x<=10 :\n",
      " print \"x is between 7 and 10\"\n",
      "elif x>10 or x<7 :\n",
      "     print \" x is out of data\""
     ],
     "language": "python",
     "metadata": {},
     "outputs": [
      {
       "output_type": "stream",
       "stream": "stdout",
       "text": [
        " x is out of data\n"
       ]
      }
     ],
     "prompt_number": 95
    },
    {
     "cell_type": "code",
     "collapsed": false,
     "input": [
      "p=True\n",
      "if(p):\n",
      " x=5\n",
      "else:\n",
      " x=7\n",
      "print x"
     ],
     "language": "python",
     "metadata": {},
     "outputs": [
      {
       "output_type": "stream",
       "stream": "stdout",
       "text": [
        "5\n"
       ]
      }
     ],
     "prompt_number": 100
    },
    {
     "cell_type": "code",
     "collapsed": false,
     "input": [
      "import numpy #can't forget this!\n",
      "import matplotlib.pyplot as plt #our shortcut\n",
      "\n",
      "x = numpy.linspace(-4,4,30)      #create our first array\n",
      "y1 = x**2    #this is how Python does exponents\n",
      "y2 = x**3\n",
      "\n",
      "plt.plot(x,y1)and plt.plot(x,y3)           #create the plot\n",
      "plt.show()              #show the plot\n",
      "\n",
      "# linspace means from 0 to 5 devided by 20 sections."
     ],
     "language": "python",
     "metadata": {},
     "outputs": [
      {
       "ename": "NameError",
       "evalue": "name 'y3' is not defined",
       "output_type": "pyerr",
       "traceback": [
        "\u001b[1;31m---------------------------------------------------------------------------\u001b[0m\n\u001b[1;31mNameError\u001b[0m                                 Traceback (most recent call last)",
        "\u001b[1;32m<ipython-input-150-0bc1ea32276b>\u001b[0m in \u001b[0;36m<module>\u001b[1;34m()\u001b[0m\n\u001b[0;32m      6\u001b[0m \u001b[0my2\u001b[0m \u001b[1;33m=\u001b[0m \u001b[0mx\u001b[0m\u001b[1;33m**\u001b[0m\u001b[1;36m3\u001b[0m\u001b[1;33m\u001b[0m\u001b[0m\n\u001b[0;32m      7\u001b[0m \u001b[1;33m\u001b[0m\u001b[0m\n\u001b[1;32m----> 8\u001b[1;33m \u001b[0mplt\u001b[0m\u001b[1;33m.\u001b[0m\u001b[0mplot\u001b[0m\u001b[1;33m(\u001b[0m\u001b[0mx\u001b[0m\u001b[1;33m,\u001b[0m\u001b[0my1\u001b[0m\u001b[1;33m)\u001b[0m\u001b[1;32mand\u001b[0m \u001b[0mplt\u001b[0m\u001b[1;33m.\u001b[0m\u001b[0mplot\u001b[0m\u001b[1;33m(\u001b[0m\u001b[0mx\u001b[0m\u001b[1;33m,\u001b[0m\u001b[0my3\u001b[0m\u001b[1;33m)\u001b[0m           \u001b[1;31m#create the plot\u001b[0m\u001b[1;33m\u001b[0m\u001b[0m\n\u001b[0m\u001b[0;32m      9\u001b[0m \u001b[0mplt\u001b[0m\u001b[1;33m.\u001b[0m\u001b[0mshow\u001b[0m\u001b[1;33m(\u001b[0m\u001b[1;33m)\u001b[0m              \u001b[1;31m#show the plot\u001b[0m\u001b[1;33m\u001b[0m\u001b[0m\n\u001b[0;32m     10\u001b[0m \u001b[1;33m\u001b[0m\u001b[0m\n",
        "\u001b[1;31mNameError\u001b[0m: name 'y3' is not defined"
       ]
      }
     ],
     "prompt_number": 150
    },
    {
     "cell_type": "code",
     "collapsed": false,
     "input": [
      "a=numpy.array([1,2,3])\n",
      "b=a.copy()\n",
      "print b\n",
      "b[1]=7\n",
      "print a\n",
      "print b\n",
      "\n",
      "# in this case any changing in b does not lead to change in a (just b). however if we assugned b=a instead of \n",
      "# b.a.copy() by changing the b also array a changes.\n"
     ],
     "language": "python",
     "metadata": {},
     "outputs": [
      {
       "output_type": "stream",
       "stream": "stdout",
       "text": [
        "[1 2 3]\n",
        "[1 2 3]\n",
        "[1 7 3]\n"
       ]
      }
     ],
     "prompt_number": 102
    },
    {
     "cell_type": "code",
     "collapsed": false,
     "input": [
      "# How can we edit our graph or creating contour?"
     ],
     "language": "python",
     "metadata": {},
     "outputs": [],
     "prompt_number": 146
    },
    {
     "cell_type": "code",
     "collapsed": false,
     "input": [],
     "language": "python",
     "metadata": {},
     "outputs": []
    }
   ],
   "metadata": {}
  }
 ]
}